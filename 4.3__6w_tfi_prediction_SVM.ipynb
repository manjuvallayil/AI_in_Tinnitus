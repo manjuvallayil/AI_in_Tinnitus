{
 "cells": [
  {
   "cell_type": "code",
   "execution_count": 16,
   "id": "189c37e2",
   "metadata": {},
   "outputs": [],
   "source": [
    "import os\n",
    "import pandas as pd\n",
    "import numpy as np\n",
    "from sklearn.model_selection import cross_val_score\n",
    "from sklearn.model_selection import RepeatedKFold\n",
    "from sklearn.ensemble import RandomForestRegressor\n",
    "from sklearn.preprocessing import StandardScaler\n",
    "from sklearn.svm import SVR\n",
    "from sklearn.metrics import mean_absolute_error"
   ]
  },
  {
   "cell_type": "code",
   "execution_count": 4,
   "id": "bbce8f44",
   "metadata": {},
   "outputs": [
    {
     "name": "stdout",
     "output_type": "stream",
     "text": [
      "31\n",
      "30\n"
     ]
    }
   ],
   "source": [
    "df1 = pd.read_csv('Stable_Data_CSV.csv')\n",
    "df2 = pd.read_csv('6wUsingBL.csv')\n",
    "df_stable = df2[df2.set_index(['participant_id']).index.isin(df1.set_index(['participant_id']).index)]\n",
    "df_stable_US = df_stable.loc[(df_stable['arm'] == 1)]\n",
    "df_stable_WN = df_stable.loc[(df_stable['arm'] == 2)]\n",
    "print(len(df_stable_US))\n",
    "print(len(df_stable_WN))\n",
    "df_stable_US=(df_stable_US[['c_3','sl_1','a_2','q_1','tfi_total.1','tfi_total.2','tfi_total.3']])\n",
    "df_stable_WN=(df_stable_WN[['sl_2','r_1','e_1','tfi_total.1','tfi_total.2','tfi_total.3']])"
   ]
  },
  {
   "cell_type": "code",
   "execution_count": 31,
   "id": "c0973c00",
   "metadata": {},
   "outputs": [
    {
     "name": "stdout",
     "output_type": "stream",
     "text": [
      "(26, 5) (26, 1) (5, 5) (5, 1)\n",
      "(25, 4) (25, 1) (5, 4) (5, 1)\n"
     ]
    },
    {
     "name": "stderr",
     "output_type": "stream",
     "text": [
      "/Users/manjuvallayil/miniforge3/envs/tinnitus/lib/python3.9/site-packages/sklearn/utils/validation.py:993: DataConversionWarning: A column-vector y was passed when a 1d array was expected. Please change the shape of y to (n_samples, ), for example using ravel().\n",
      "  y = column_or_1d(y, warn=True)\n",
      "/Users/manjuvallayil/miniforge3/envs/tinnitus/lib/python3.9/site-packages/sklearn/utils/validation.py:993: DataConversionWarning: A column-vector y was passed when a 1d array was expected. Please change the shape of y to (n_samples, ), for example using ravel().\n",
      "  y = column_or_1d(y, warn=True)\n"
     ]
    },
    {
     "data": {
      "text/plain": [
       "SVR()"
      ]
     },
     "execution_count": 31,
     "metadata": {},
     "output_type": "execute_result"
    }
   ],
   "source": [
    "def data_prep(df):\n",
    "    sc_X = StandardScaler()\n",
    "    sc_y = StandardScaler()\n",
    "    train_data=df.iloc[:-5,:]\n",
    "    test_data =df.iloc[-5:,:]\n",
    "    #Train Test Split \n",
    "    x_train=train_data.drop(['tfi_total.2','tfi_total.3'],axis=1)\n",
    "    y_train=train_data[['tfi_total.2']]\n",
    "    x_test=test_data.drop(['tfi_total.2','tfi_total.3'],axis=1)\n",
    "    y_test=test_data[['tfi_total.2']]\n",
    "    sc_X = sc_X.fit(x_train)\n",
    "    sc_y = sc_y.fit(y_train)\n",
    "    x_train=sc_X.transform(x_train)\n",
    "    x_test=sc_X.transform(x_test)\n",
    "    y_train=sc_y.transform(y_train)\n",
    "    y_test=sc_y.transform(y_test)\n",
    "\n",
    "    print(x_train.shape,y_train.shape, x_test.shape, y_test.shape)\n",
    "    return x_train, x_test, y_train, y_test,sc_y\n",
    "\n",
    "US_x_train, US_x_test, US_y_train, US_y_test,US_sc_y=data_prep(df_stable_US)\n",
    "WN_x_train, WN_x_test, WN_y_train, WN_y_test,WN_sc_y=data_prep(df_stable_WN)\n",
    "\n",
    "US_regressor = SVR(kernel = 'rbf')\n",
    "WN_regressor = SVR(kernel = 'rbf')\n",
    "US_regressor.fit(US_x_train, US_y_train)\n",
    "WN_regressor.fit(WN_x_train, WN_y_train)"
   ]
  },
  {
   "cell_type": "code",
   "execution_count": 32,
   "id": "c64ceaaa",
   "metadata": {},
   "outputs": [],
   "source": [
    "US_y_test=US_sc_y.inverse_transform( US_y_test.reshape(-1, 1)) \n",
    "US_yhat = US_regressor.predict(US_x_test)\n",
    "US_yhat  = US_sc_y.inverse_transform(US_yhat.reshape(-1, 1)) \n",
    "WN_y_test=WN_sc_y.inverse_transform( WN_y_test.reshape(-1, 1)) \n",
    "WN_yhat = WN_regressor.predict(WN_x_test)\n",
    "WN_yhat  = WN_sc_y.inverse_transform(WN_yhat.reshape(-1, 1)) "
   ]
  },
  {
   "cell_type": "code",
   "execution_count": 34,
   "id": "c561d7f4",
   "metadata": {},
   "outputs": [
    {
     "name": "stdout",
     "output_type": "stream",
     "text": [
      "US_mae\n",
      "15.420003098447319\n",
      "\n",
      "\n",
      "WN_mae\n",
      "13.598193903510042\n"
     ]
    }
   ],
   "source": [
    "US_error=mean_absolute_error(US_y_test,US_yhat)\n",
    "print(\"US_mae\")\n",
    "print(US_error)\n",
    "WN_error=mean_absolute_error(WN_y_test,WN_yhat)\n",
    "print(\"\\n\")\n",
    "print(\"WN_mae\")\n",
    "print(WN_error)"
   ]
  }
 ],
 "metadata": {
  "kernelspec": {
   "display_name": "Python 3.9 (tinnitus)",
   "language": "python",
   "name": "tinnitus"
  },
  "language_info": {
   "codemirror_mode": {
    "name": "ipython",
    "version": 3
   },
   "file_extension": ".py",
   "mimetype": "text/x-python",
   "name": "python",
   "nbconvert_exporter": "python",
   "pygments_lexer": "ipython3",
   "version": "3.9.10"
  }
 },
 "nbformat": 4,
 "nbformat_minor": 5
}
