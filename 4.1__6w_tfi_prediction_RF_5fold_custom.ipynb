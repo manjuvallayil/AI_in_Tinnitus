{
 "cells": [
  {
   "cell_type": "code",
   "execution_count": 19,
   "id": "189c37e2",
   "metadata": {},
   "outputs": [],
   "source": [
    "import os\n",
    "import pandas as pd\n",
    "import numpy as np\n",
    "import keras\n",
    "import tensorflow as tf\n",
    "import plotly\n",
    "import plotly.graph_objects as go\n",
    "import plotly.express as px\n",
    "import kaleido ##pip install -U kaleido ##to save a plotly fig\n",
    "import sys \n",
    "import tensorflow.keras\n",
    "import pandas as pd\n",
    "import sklearn as sk\n",
    "import tensorflow as tf\n",
    "import keras\n",
    "from sklearn.model_selection import train_test_split\n",
    "from keras.models import Sequential\n",
    "from keras.layers import Dense\n",
    "from keras.layers import LSTM\n",
    "from matplotlib import pyplot\n",
    "from sklearn.metrics import mean_squared_error\n",
    "from sklearn.metrics import mean_absolute_error\n",
    "from sklearn.metrics import mean_absolute_percentage_error as mape\n",
    "from math import sqrt\n",
    "import matplotlib.pyplot as plt\n",
    "from sklearn.preprocessing import MinMaxScaler\n",
    "import numpy as np\n",
    "from sklearn.preprocessing import StandardScaler\n",
    "from sklearn.model_selection import KFold"
   ]
  },
  {
   "cell_type": "code",
   "execution_count": 20,
   "id": "e18d6883",
   "metadata": {},
   "outputs": [],
   "source": [
    "#Fitting Random Forest Regression to the dataset\n",
    "# import the regressor\n",
    "from sklearn.ensemble import RandomForestRegressor\n",
    " \n",
    " # create regressor object\n",
    "regressor = RandomForestRegressor(n_estimators = 100, random_state = 0)\n",
    "#WN_regressor = RandomForestRegressor(n_estimators = 100, random_state = 0)"
   ]
  },
  {
   "cell_type": "code",
   "execution_count": 21,
   "id": "bbce8f44",
   "metadata": {},
   "outputs": [
    {
     "name": "stdout",
     "output_type": "stream",
     "text": [
      "31\n",
      "30\n"
     ]
    }
   ],
   "source": [
    "df1 = pd.read_csv('Stable_Data_CSV.csv')\n",
    "df2 = pd.read_csv('6wUsingBL.csv')\n",
    "df_stable = df2[df2.set_index(['participant_id']).index.isin(df1.set_index(['participant_id']).index)]\n",
    "df_stable_US = df_stable.loc[(df_stable['arm'] == 1)]\n",
    "df_stable_WN = df_stable.loc[(df_stable['arm'] == 2)]\n",
    "print(len(df_stable_US))\n",
    "print(len(df_stable_WN))\n",
    "df_stable_US=(df_stable_US[['c_3','sl_1','a_2','q_1','tfi_total.1','tfi_total.2','tfi_total.3']])\n",
    "df_stable_WN=(df_stable_WN[['sl_2','r_1','e_1','tfi_total.1','tfi_total.2','tfi_total.3']])"
   ]
  },
  {
   "cell_type": "code",
   "execution_count": 22,
   "id": "1c079de0",
   "metadata": {},
   "outputs": [
    {
     "name": "stdout",
     "output_type": "stream",
     "text": [
      "TRAIN: [ 7  8  9 10 11 12 13 14 15 16 17 18 19 20 21 22 23 24 25 26 27 28 29 30] TEST: [0 1 2 3 4 5 6]\n",
      "TRAIN: [ 0  1  2  3  4  5  6 13 14 15 16 17 18 19 20 21 22 23 24 25 26 27 28 29\n",
      " 30] TEST: [ 7  8  9 10 11 12]\n",
      "TRAIN: [ 0  1  2  3  4  5  6  7  8  9 10 11 12 19 20 21 22 23 24 25 26 27 28 29\n",
      " 30] TEST: [13 14 15 16 17 18]\n",
      "TRAIN: [ 0  1  2  3  4  5  6  7  8  9 10 11 12 13 14 15 16 17 18 25 26 27 28 29\n",
      " 30] TEST: [19 20 21 22 23 24]\n",
      "TRAIN: [ 0  1  2  3  4  5  6  7  8  9 10 11 12 13 14 15 16 17 18 19 20 21 22 23\n",
      " 24] TEST: [25 26 27 28 29 30]\n",
      "TRAIN: [ 6  7  8  9 10 11 12 13 14 15 16 17 18 19 20 21 22 23 24 25 26 27 28 29] TEST: [0 1 2 3 4 5]\n",
      "TRAIN: [ 0  1  2  3  4  5 12 13 14 15 16 17 18 19 20 21 22 23 24 25 26 27 28 29] TEST: [ 6  7  8  9 10 11]\n",
      "TRAIN: [ 0  1  2  3  4  5  6  7  8  9 10 11 18 19 20 21 22 23 24 25 26 27 28 29] TEST: [12 13 14 15 16 17]\n",
      "TRAIN: [ 0  1  2  3  4  5  6  7  8  9 10 11 12 13 14 15 16 17 24 25 26 27 28 29] TEST: [18 19 20 21 22 23]\n",
      "TRAIN: [ 0  1  2  3  4  5  6  7  8  9 10 11 12 13 14 15 16 17 18 19 20 21 22 23] TEST: [24 25 26 27 28 29]\n"
     ]
    }
   ],
   "source": [
    "def data_prep(df):\n",
    "    train_data=df.iloc[:-5,:]\n",
    "    test_data =df.iloc[-5:,:]\n",
    "    #Train Test Split \n",
    "    x_train=train_data.drop(['tfi_total.2','tfi_total.3'],axis=1)\n",
    "    y_train=train_data[['tfi_total.2']]\n",
    "    x_test=test_data.drop(['tfi_total.2','tfi_total.3'],axis=1)\n",
    "    y_test=test_data[['tfi_total.2']]\n",
    "    print(x_train.shape,y_train.shape, x_test.shape, y_test.shape)\n",
    "    return x_train, x_test, y_train, y_test\n",
    "\n",
    "kfold = KFold(n_splits=5)\n",
    "error_scores_US=[]\n",
    "error_scores_WN=[]\n",
    "\n",
    "def cross_val(df,error_scores):\n",
    "    X=df.drop(['tfi_total.2','tfi_total.3'],axis=1).values\n",
    "    y=df[['tfi_total.2']].values.ravel()\n",
    "    for train_index, test_index in kfold.split(X):\n",
    "        print(\"TRAIN:\", train_index, \"TEST:\", test_index)\n",
    "        x_train, x_test = X[train_index], X[test_index]\n",
    "        y_train, y_test = y[train_index], y[test_index]\n",
    "        regressor.fit(x_train, y_train)\n",
    "        yhat=regressor.predict(x_test)\n",
    "        val_mae=mean_absolute_error(y_test,yhat)\n",
    "        error_scores.append(val_mae)\n",
    "    return error_scores\n",
    "\n",
    "US_error=cross_val(df_stable_US,error_scores_US)\n",
    "WN_error=cross_val(df_stable_WN,error_scores_WN)\n",
    "\n"
   ]
  },
  {
   "cell_type": "code",
   "execution_count": 24,
   "id": "5ce94cc7",
   "metadata": {},
   "outputs": [
    {
     "name": "stdout",
     "output_type": "stream",
     "text": [
      "[20.91942857142857, 11.65666666666668, 19.986666666666665, 11.321999999999994, 16.126666666666676]\n",
      "\n",
      "\n",
      "16.002285714285716\n",
      "\n",
      "\n",
      "\n",
      "\n",
      "[17.912000000000024, 17.74866666666667, 9.296666666666654, 25.00399999999999, 7.016000000000022]\n",
      "\n",
      "\n",
      "15.39546666666667\n"
     ]
    }
   ],
   "source": [
    "print(US_error)\n",
    "print(\"\\n\")\n",
    "print(np.mean(US_error))\n",
    "print(\"\\n\")\n",
    "print(\"\\n\")\n",
    "print(WN_error)\n",
    "print(\"\\n\")\n",
    "print(np.mean(WN_error))"
   ]
  },
  {
   "cell_type": "code",
   "execution_count": null,
   "id": "2ff126f1",
   "metadata": {},
   "outputs": [],
   "source": []
  }
 ],
 "metadata": {
  "kernelspec": {
   "display_name": "Python 3.9 (tinnitus)",
   "language": "python",
   "name": "tinnitus"
  },
  "language_info": {
   "codemirror_mode": {
    "name": "ipython",
    "version": 3
   },
   "file_extension": ".py",
   "mimetype": "text/x-python",
   "name": "python",
   "nbconvert_exporter": "python",
   "pygments_lexer": "ipython3",
   "version": "3.9.10"
  }
 },
 "nbformat": 4,
 "nbformat_minor": 5
}
