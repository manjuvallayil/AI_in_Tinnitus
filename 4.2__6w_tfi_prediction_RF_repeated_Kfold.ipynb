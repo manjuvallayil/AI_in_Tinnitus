{
 "cells": [
  {
   "cell_type": "code",
   "execution_count": 34,
   "id": "189c37e2",
   "metadata": {},
   "outputs": [],
   "source": [
    "import os\n",
    "import pandas as pd\n",
    "import numpy as np\n",
    "from sklearn.model_selection import cross_val_score\n",
    "from sklearn.model_selection import RepeatedKFold\n",
    "from sklearn.ensemble import RandomForestRegressor"
   ]
  },
  {
   "cell_type": "code",
   "execution_count": 35,
   "id": "bbce8f44",
   "metadata": {},
   "outputs": [
    {
     "name": "stdout",
     "output_type": "stream",
     "text": [
      "31\n",
      "30\n"
     ]
    }
   ],
   "source": [
    "df1 = pd.read_csv('Stable_Data_CSV.csv')\n",
    "df2 = pd.read_csv('6wUsingBL.csv')\n",
    "df_stable = df2[df2.set_index(['participant_id']).index.isin(df1.set_index(['participant_id']).index)]\n",
    "df_stable_US = df_stable.loc[(df_stable['arm'] == 1)]\n",
    "df_stable_WN = df_stable.loc[(df_stable['arm'] == 2)]\n",
    "print(len(df_stable_US))\n",
    "print(len(df_stable_WN))\n",
    "df_stable_US=(df_stable_US[['c_3','sl_1','a_2','q_1','tfi_total.1','tfi_total.2','tfi_total.3']])\n",
    "df_stable_WN=(df_stable_WN[['sl_2','r_1','e_1','tfi_total.1','tfi_total.2','tfi_total.3']])"
   ]
  },
  {
   "cell_type": "code",
   "execution_count": 46,
   "id": "c0973c00",
   "metadata": {},
   "outputs": [
    {
     "name": "stdout",
     "output_type": "stream",
     "text": [
      "MAE: -16.173 (4.587)\n",
      "MAE: -14.804 (4.376)\n",
      "[CV] END .............................. score: (test=-23.175) total time=   0.1s\n",
      "[CV] END ............................... score: (test=-8.949) total time=   0.1s\n",
      "[CV] END .............................. score: (test=-12.281) total time=   0.1s\n",
      "[CV] END .............................. score: (test=-13.024) total time=   0.0s\n",
      "[CV] END .............................. score: (test=-16.329) total time=   0.1s\n",
      "[CV] END .............................. score: (test=-18.987) total time=   0.1s\n",
      "[CV] END .............................. score: (test=-12.478) total time=   0.1s\n",
      "[CV] END .............................. score: (test=-14.932) total time=   0.1s\n",
      "[CV] END .............................. score: (test=-10.214) total time=   0.1s\n",
      "[CV] END .............................. score: (test=-21.023) total time=   0.1s\n",
      "[CV] END .............................. score: (test=-25.141) total time=   0.1s\n",
      "[CV] END .............................. score: (test=-10.219) total time=   0.1s\n",
      "[CV] END .............................. score: (test=-21.228) total time=   0.1s\n",
      "[CV] END .............................. score: (test=-13.006) total time=   0.1s\n",
      "[CV] END ............................... score: (test=-8.411) total time=   0.1s\n",
      "[CV] END .............................. score: (test=-12.900) total time=   0.1s\n",
      "[CV] END .............................. score: (test=-10.931) total time=   0.1s\n",
      "[CV] END .............................. score: (test=-15.103) total time=   0.1s\n",
      "[CV] END .............................. score: (test=-10.635) total time=   0.1s\n",
      "[CV] END .............................. score: (test=-19.248) total time=   0.1s\n",
      "[CV] END .............................. score: (test=-14.206) total time=   0.1s\n",
      "[CV] END .............................. score: (test=-12.623) total time=   0.1s\n",
      "[CV] END .............................. score: (test=-21.177) total time=   0.1s\n",
      "[CV] END .............................. score: (test=-14.778) total time=   0.1s\n",
      "[CV] END .............................. score: (test=-24.271) total time=   0.1s\n",
      "[CV] END .............................. score: (test=-12.465) total time=   0.1s\n",
      "[CV] END .............................. score: (test=-18.617) total time=   0.1s\n",
      "[CV] END .............................. score: (test=-18.403) total time=   0.1s\n",
      "[CV] END .............................. score: (test=-13.634) total time=   0.1s\n",
      "[CV] END .............................. score: (test=-17.747) total time=   0.1s\n"
     ]
    }
   ],
   "source": [
    "def cross_val(df):\n",
    "    # define dataset\n",
    "    X=df.drop(['tfi_total.2','tfi_total.3'],axis=1).values\n",
    "    y=df[['tfi_total.2']].values.ravel()\n",
    "    # define the model\n",
    "    model = RandomForestRegressor()\n",
    "\n",
    "    # evaluate the model\n",
    "    cv = RepeatedKFold(n_splits=5, n_repeats=3, random_state=1)#Repeats K-Fold n times with different randomization in each repetition\n",
    "    n_scores = cross_val_score(model, X, y, scoring='neg_mean_absolute_error', cv=cv, n_jobs=-1, error_score='raise',verbose=0)\n",
    "    # report performance\n",
    "    print('MAE: %.3f (%.3f)' % (np.mean(n_scores), np.std(n_scores)))\n",
    "    \n",
    "cross_val(df_stable_US)\n",
    "cross_val(df_stable_WN)\n",
    "\n"
   ]
  },
  {
   "cell_type": "raw",
   "id": "7b061e98",
   "metadata": {},
   "source": [
    "scoring--the scikit-learn library makes the MAE negative so that it is maximized instead of minimized. This means that larger negative MAE are better and a perfect model has a MAE of 0.\n",
    "\n",
    "OR Sklearn optimization algorithms aim to maximize metrics. As a result, if a metric is supposed to be minimized, they have a negative sign in sklearn.\n",
    "\n",
    "np.std--gives the square root of the average square deviation (computed from the mean), is the standard deviation.\n",
    "\n",
    "n_jobs to -1-- it will use all cores of CPU"
   ]
  },
  {
   "cell_type": "code",
   "execution_count": null,
   "id": "e32cc807",
   "metadata": {},
   "outputs": [],
   "source": []
  }
 ],
 "metadata": {
  "kernelspec": {
   "display_name": "Python 3.9 (tinnitus)",
   "language": "python",
   "name": "tinnitus"
  },
  "language_info": {
   "codemirror_mode": {
    "name": "ipython",
    "version": 3
   },
   "file_extension": ".py",
   "mimetype": "text/x-python",
   "name": "python",
   "nbconvert_exporter": "python",
   "pygments_lexer": "ipython3",
   "version": "3.9.10"
  }
 },
 "nbformat": 4,
 "nbformat_minor": 5
}
