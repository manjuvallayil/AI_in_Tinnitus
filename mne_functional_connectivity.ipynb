{
 "cells": [
  {
   "cell_type": "code",
   "execution_count": 5,
   "id": "c68d401a",
   "metadata": {},
   "outputs": [
    {
     "name": "stdout",
     "output_type": "stream",
     "text": [
      "1.0.3\n",
      "3.0.24\n"
     ]
    }
   ],
   "source": [
    "import numpy as np\n",
    "import time\n",
    "\n",
    "import pickle\n",
    "import mne\n",
    "import eegraph\n",
    "print(mne.__version__)\n",
    "\n",
    "import gradio as gr\n",
    "print(gr.__version__) "
   ]
  },
  {
   "cell_type": "code",
   "execution_count": 10,
   "id": "73c51e93",
   "metadata": {},
   "outputs": [
    {
     "name": "stdout",
     "output_type": "stream",
     "text": [
      "Running on local URL:  http://127.0.0.1:7866/\n",
      "Running on public URL: https://16786.gradio.app\n",
      "\n",
      "This share link expires in 72 hours. For free permanent hosting, check out Spaces (https://huggingface.co/spaces)\n"
     ]
    },
    {
     "data": {
      "text/html": [
       "<div><iframe src=\"https://16786.gradio.app\" width=\"900\" height=\"500\" allow=\"autoplay; camera; microphone;\" frameborder=\"0\" allowfullscreen></iframe></div>"
      ],
      "text/plain": [
       "<IPython.core.display.HTML object>"
      ]
     },
     "metadata": {},
     "output_type": "display_data"
    },
    {
     "data": {
      "text/plain": [
       "(<gradio.routes.App at 0x133ee87f0>,\n",
       " 'http://127.0.0.1:7866/',\n",
       " 'https://16786.gradio.app')"
      ]
     },
     "execution_count": 10,
     "metadata": {},
     "output_type": "execute_result"
    },
    {
     "name": "stdout",
     "output_type": "stream",
     "text": [
      "Extracting EDF parameters from /var/folders/ts/975gflv16y9_wd421n6z6w8c0000gn/T/Noel R Pre-Decitw2g4d2y.edf...\n",
      "EDF file detected\n",
      "Setting channel info structure...\n",
      "Creating raw.info structure...\n",
      "\n",
      "\u001b[1mEEG Information.\n",
      "\u001b[0mNumber of Channels: 72\n",
      "Sample rate: 256.0 Hz.\n",
      "Duration: 302.996 seconds.\n",
      "Channel Names: ['Fp1', 'AF7', 'AF3', 'F1', 'F3', 'F5', 'F7', 'FT7', 'FC5', 'FC3', 'FC1', 'C1', 'C3', 'C5', 'T7', 'TP7', 'CP5', 'CP3', 'CP1', 'P1', 'P3', 'P5', 'P7', 'P9', 'PO7', 'PO3', 'O1', 'Iz', 'Oz', 'POz', 'Pz', 'CPz', 'Fpz', 'Fp2', 'AF8', 'AF4', 'AFz', 'Fz', 'F2', 'F4', 'F6', 'F8', 'FT8', 'FC6', 'FC4', 'FC2', 'FCz', 'Cz', 'C2', 'C4', 'C6', 'T8', 'TP8', 'CP6', 'CP4', 'CP2', 'P2', 'P4', 'P6', 'P8', 'P10', 'PO8', 'PO4', 'O2', 'EXG1', 'EXG2', 'EXG3', 'EXG4', 'EXG5', 'EXG6', 'EXG7', 'EXG8']\n",
      "\u001b[1mModel Data.\u001b[0m\n",
      "Pearson_correlation_Estimator()\n",
      "Intervals:  [(0, 512.0), (512.0, 1024.0), (1024.0, 1536.0), (1536.0, 2048.0), (2048.0, 2560.0), (2560.0, 3072.0), (3072.0, 3584.0), (3584.0, 4096.0), (4096.0, 4608.0), (4608.0, 5120.0), (5120.0, 5632.0), (5632.0, 6144.0), (6144.0, 6656.0), (6656.0, 7168.0), (7168.0, 7680.0), (7680.0, 8192.0), (8192.0, 8704.0), (8704.0, 9216.0), (9216.0, 9728.0), (9728.0, 10240.0), (10240.0, 10752.0), (10752.0, 11264.0), (11264.0, 11776.0), (11776.0, 12288.0), (12288.0, 12800.0), (12800.0, 13312.0), (13312.0, 13824.0), (13824.0, 14336.0), (14336.0, 14848.0), (14848.0, 15360.0), (15360.0, 15872.0), (15872.0, 16384.0), (16384.0, 16896.0), (16896.0, 17408.0), (17408.0, 17920.0), (17920.0, 18432.0), (18432.0, 18944.0), (18944.0, 19456.0), (19456.0, 19968.0), (19968.0, 20480.0), (20480.0, 20992.0), (20992.0, 21504.0), (21504.0, 22016.0), (22016.0, 22528.0), (22528.0, 23040.0), (23040.0, 23552.0), (23552.0, 24064.0), (24064.0, 24576.0), (24576.0, 25088.0), (25088.0, 25600.0), (25600.0, 26112.0), (26112.0, 26624.0), (26624.0, 27136.0), (27136.0, 27648.0), (27648.0, 28160.0), (28160.0, 28672.0), (28672.0, 29184.0), (29184.0, 29696.0), (29696.0, 30208.0), (30208.0, 30720.0), (30720.0, 31232.0), (31232.0, 31744.0), (31744.0, 32256.0), (32256.0, 32768.0), (32768.0, 33280.0), (33280.0, 33792.0), (33792.0, 34304.0), (34304.0, 34816.0), (34816.0, 35328.0), (35328.0, 35840.0), (35840.0, 36352.0), (36352.0, 36864.0), (36864.0, 37376.0), (37376.0, 37888.0), (37888.0, 38400.0), (38400.0, 38912.0), (38912.0, 39424.0), (39424.0, 39936.0), (39936.0, 40448.0), (40448.0, 40960.0), (40960.0, 41472.0), (41472.0, 41984.0), (41984.0, 42496.0), (42496.0, 43008.0), (43008.0, 43520.0), (43520.0, 44032.0), (44032.0, 44544.0), (44544.0, 45056.0), (45056.0, 45568.0), (45568.0, 46080.0), (46080.0, 46592.0), (46592.0, 47104.0), (47104.0, 47616.0), (47616.0, 48128.0), (48128.0, 48640.0), (48640.0, 49152.0), (49152.0, 49664.0), (49664.0, 50176.0), (50176.0, 50688.0), (50688.0, 51200.0), (51200.0, 51712.0), (51712.0, 52224.0), (52224.0, 52736.0), (52736.0, 53248.0), (53248.0, 53760.0), (53760.0, 54272.0), (54272.0, 54784.0), (54784.0, 55296.0), (55296.0, 55808.0), (55808.0, 56320.0), (56320.0, 56832.0), (56832.0, 57344.0), (57344.0, 57856.0), (57856.0, 58368.0), (58368.0, 58880.0), (58880.0, 59392.0), (59392.0, 59904.0), (59904.0, 60416.0), (60416.0, 60928.0), (60928.0, 61440.0), (61440.0, 61952.0), (61952.0, 62464.0), (62464.0, 62976.0), (62976.0, 63488.0), (63488.0, 64000.0), (64000.0, 64512.0), (64512.0, 65024.0), (65024.0, 65536.0), (65536.0, 66048.0), (66048.0, 66560.0), (66560.0, 67072.0), (67072.0, 67584.0), (67584.0, 68096.0), (68096.0, 68608.0), (68608.0, 69120.0), (69120.0, 69632.0), (69632.0, 70144.0), (70144.0, 70656.0), (70656.0, 71168.0), (71168.0, 71680.0), (71680.0, 72192.0), (72192.0, 72704.0), (72704.0, 73216.0), (73216.0, 73728.0), (73728.0, 74240.0), (74240.0, 74752.0), (74752.0, 75264.0), (75264.0, 75776.0), (75776.0, 76288.0), (76288.0, 76800.0), (76800.0, 77312.0), (77312.0, 77567.0)]\n",
      "\n",
      "Threshold: 0.7\n",
      "Number of graphs created: 152\n"
     ]
    },
    {
     "name": "stderr",
     "output_type": "stream",
     "text": [
      "/Users/manjuvallayil/miniforge3/envs/tinnitus/lib/python3.9/site-packages/sklearn/base.py:329: UserWarning: Trying to unpickle estimator LabelBinarizer from version 0.22.2.post1 when using version 1.0.2. This might lead to breaking code or invalid results. Use at your own risk. For more info please refer to:\n",
      "https://scikit-learn.org/stable/modules/model_persistence.html#security-maintainability-limitations\n",
      "  warnings.warn(\n",
      "/Users/manjuvallayil/miniforge3/envs/tinnitus/lib/python3.9/site-packages/sklearn/base.py:329: UserWarning: Trying to unpickle estimator MLPClassifier from version 0.22.2.post1 when using version 1.0.2. This might lead to breaking code or invalid results. Use at your own risk. For more info please refer to:\n",
      "https://scikit-learn.org/stable/modules/model_persistence.html#security-maintainability-limitations\n",
      "  warnings.warn(\n",
      "/Users/manjuvallayil/miniforge3/envs/tinnitus/eegraph/tools.py:647: UserWarning: Channel with label 'Iz' is not a recognized electrode position. It will be ignored for visualization.\n",
      "  warnings.warn(\"Channel with label '\" + node + \"' is not a recognized electrode position. It will be ignored for visualization.\")\n",
      "/Users/manjuvallayil/miniforge3/envs/tinnitus/eegraph/tools.py:647: UserWarning: Channel with label 'EXG1' is not a recognized electrode position. It will be ignored for visualization.\n",
      "  warnings.warn(\"Channel with label '\" + node + \"' is not a recognized electrode position. It will be ignored for visualization.\")\n",
      "/Users/manjuvallayil/miniforge3/envs/tinnitus/eegraph/tools.py:647: UserWarning: Channel with label 'EXG2' is not a recognized electrode position. It will be ignored for visualization.\n",
      "  warnings.warn(\"Channel with label '\" + node + \"' is not a recognized electrode position. It will be ignored for visualization.\")\n",
      "/Users/manjuvallayil/miniforge3/envs/tinnitus/eegraph/tools.py:647: UserWarning: Channel with label 'EXG3' is not a recognized electrode position. It will be ignored for visualization.\n",
      "  warnings.warn(\"Channel with label '\" + node + \"' is not a recognized electrode position. It will be ignored for visualization.\")\n",
      "/Users/manjuvallayil/miniforge3/envs/tinnitus/eegraph/tools.py:647: UserWarning: Channel with label 'EXG4' is not a recognized electrode position. It will be ignored for visualization.\n",
      "  warnings.warn(\"Channel with label '\" + node + \"' is not a recognized electrode position. It will be ignored for visualization.\")\n",
      "/Users/manjuvallayil/miniforge3/envs/tinnitus/eegraph/tools.py:647: UserWarning: Channel with label 'EXG5' is not a recognized electrode position. It will be ignored for visualization.\n",
      "  warnings.warn(\"Channel with label '\" + node + \"' is not a recognized electrode position. It will be ignored for visualization.\")\n",
      "/Users/manjuvallayil/miniforge3/envs/tinnitus/eegraph/tools.py:647: UserWarning: Channel with label 'EXG6' is not a recognized electrode position. It will be ignored for visualization.\n",
      "  warnings.warn(\"Channel with label '\" + node + \"' is not a recognized electrode position. It will be ignored for visualization.\")\n",
      "/Users/manjuvallayil/miniforge3/envs/tinnitus/eegraph/tools.py:647: UserWarning: Channel with label 'EXG7' is not a recognized electrode position. It will be ignored for visualization.\n",
      "  warnings.warn(\"Channel with label '\" + node + \"' is not a recognized electrode position. It will be ignored for visualization.\")\n",
      "/Users/manjuvallayil/miniforge3/envs/tinnitus/eegraph/tools.py:647: UserWarning: Channel with label 'EXG8' is not a recognized electrode position. It will be ignored for visualization.\n",
      "  warnings.warn(\"Channel with label '\" + node + \"' is not a recognized electrode position. It will be ignored for visualization.\")\n"
     ]
    }
   ],
   "source": [
    "    \n",
    "def graph_gen(file_obj,measure):\n",
    "    global G,graphs,connectivity_matrix,n_graphs\n",
    "    raw_fname=file_obj.name\n",
    "    G = eegraph.Graph()\n",
    "    G.load_data(path = raw_fname,electrode_montage_path = '1.ced')\n",
    "    if measure==\"pearson_correlation\":   \n",
    "        graphs, connectivity_matrix = G.modelate(window_size = 2, connectivity = 'pearson_correlation')#threshold = 0.8\n",
    "    elif measure==\"squared_coherence\":\n",
    "        graphs, connectivity_matrix = G.modelate(window_size = 2, connectivity = 'squared_coherence',bands = ['delta','theta','alpha'])\n",
    "    n_graphs=len(graphs)\n",
    "    framenum=len(connectivity_matrix)\n",
    "    A1=[]\n",
    "    for n in range(framenum):\n",
    "        A=connectivity_matrix[n,:,:] \n",
    "        A=A.flatten()\n",
    "        A1.append(A)\n",
    "    A1 = np.array(A1) \n",
    "    with open('FunctionalConnectivitymodel.pickle','rb') as fr:\n",
    "       graphclassificationmodel = pickle.load(fr)\n",
    "       predicted_labels=graphclassificationmodel.predict(A1)   \n",
    "    mask = np.unique(predicted_labels)\n",
    "    tmp = []\n",
    "    for v in mask:\n",
    "       tmp.append(np.sum(predicted_labels==v))\n",
    "       ts = np.max(tmp)\n",
    "       Total=predicted_labels.size\n",
    "       ts1=Total-ts\n",
    "       max_v = mask[np.argmax(tmp)]\n",
    "       Prob=ts/Total*100\n",
    "       Prob1=ts1/Total*100\n",
    "       if max_v==1:\n",
    "           pred='Responder'\n",
    "       else:\n",
    "           pred='Non-Responder'\n",
    "    return (f'{round(Prob,2)}% chance this person is {pred}'),(f'{n_graphs} connectivity graphs generated')\n",
    "\n",
    "    \n",
    "def visualise(number): \n",
    "    grph_number=number-1\n",
    "    G.visualize(graphs[grph_number], 'graph_1')\n",
    "    path='graph_1_plot.html'\n",
    "    return path\n",
    "    \n",
    "\n",
    "demo = gr.Blocks()\n",
    "\n",
    "with demo:\n",
    "    gr.Image('neuroinformatics_logo.png',image_mode='L',label='AI in Tinnitus').style(height=54, width=240)\n",
    "    gr.Markdown(\n",
    "    \"\"\"\n",
    "    # Tinnitus Prediction using Functional Connectivity\n",
    "    \"\"\")\n",
    "    gr.Markdown(\n",
    "    \"\"\"\n",
    "    Upload the eeg data to see the prediction.\n",
    "    \n",
    "    \"\"\")\n",
    "    inp1 = gr.File(label=\"Upload eeg data\")\n",
    "    inp2 = gr.Radio([\"pearson_correlation\", \"squared_coherence\"],label=\"Select a connectivity measure\",value=\"pearson_correlation\")\n",
    "    btn1 = gr.Button(\"Compute Functional Connectivity and Make the Prediction\",variant='primary')\n",
    "    out1 = gr.Label(label=\"Predicted Results\")\n",
    "    lab1 = gr.Label(label=\"Graphs Generated\")\n",
    "    btn1.click(fn=graph_gen, inputs=[inp1,inp2], outputs=[out1,lab1])\n",
    "    gr.Markdown(\n",
    "    \"\"\"\n",
    "  ***********************************************************************************************\n",
    "  ***********************************************************************************************\n",
    "  \n",
    "    \"\"\")\n",
    "    gr.Markdown(\n",
    "    \"\"\"\n",
    "    # Visualise the Connectivity Graph\n",
    "    \"\"\")\n",
    "    gr.Markdown(\n",
    "    \"\"\"\n",
    "    Enter any number less than or equal to 'the total number of Graphs Generated'.\n",
    "    \n",
    "    \"\"\")\n",
    "    \n",
    "    inp3 = gr.Number(label=\"Specify the graph number you want to visualize\",value=1)\n",
    "    btn2 = gr.Button(\"Visualise Connectivity Graphs\",variant='primary')\n",
    "    out2 = gr.File()\n",
    "    btn2.click(fn=visualise, inputs=inp3, outputs=out2)\n",
    "       \n",
    "demo.launch(share=True)\n"
   ]
  },
  {
   "cell_type": "code",
   "execution_count": null,
   "id": "0e19b628",
   "metadata": {},
   "outputs": [],
   "source": []
  }
 ],
 "metadata": {
  "kernelspec": {
   "display_name": "Python 3.9 (tinnitus)",
   "language": "python",
   "name": "tinnitus"
  },
  "language_info": {
   "codemirror_mode": {
    "name": "ipython",
    "version": 3
   },
   "file_extension": ".py",
   "mimetype": "text/x-python",
   "name": "python",
   "nbconvert_exporter": "python",
   "pygments_lexer": "ipython3",
   "version": "3.9.10"
  }
 },
 "nbformat": 4,
 "nbformat_minor": 5
}
